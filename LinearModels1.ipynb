{
  "nbformat": 4,
  "nbformat_minor": 0,
  "metadata": {
    "colab": {
      "provenance": [],
      "include_colab_link": true
    },
    "kernelspec": {
      "name": "python3",
      "display_name": "Python 3"
    }
  },
  "cells": [
    {
      "cell_type": "markdown",
      "metadata": {
        "id": "view-in-github",
        "colab_type": "text"
      },
      "source": [
        "<a href=\"https://colab.research.google.com/github/atoothman/DATA-70500/blob/main/LinearModels1.ipynb\" target=\"_parent\"><img src=\"https://colab.research.google.com/assets/colab-badge.svg\" alt=\"Open In Colab\"/></a>"
      ]
    },
    {
      "cell_type": "markdown",
      "metadata": {
        "id": "ApbsA6MShRUs"
      },
      "source": [
        "# Introduction to the Linear Model in Python\n",
        "\n",
        "We are going to compute the linear relationship between two numeric variables using ordinary least squires (OLS). This is a technique for describing how variation in one variable (X) helps explain variation in another (Y). We'll also visualize the relationship.\n",
        "\n",
        "This will be the foundation upon which we can build a sociological analysis of data about the social world.\n",
        "\n",
        "The code in Python to do this is relatively straight-forward. If you've had a statistics course, you've probably seen the statistical tools. But don't worry if you haven't. I'll explain the steps so that you can reproduce the analysis with variables you select.\n",
        "\n",
        "First, we need to import some standard libraries."
      ]
    },
    {
      "cell_type": "code",
      "metadata": {
        "id": "mYMT43_whNbK",
        "colab": {
          "base_uri": "https://localhost:8080/"
        },
        "outputId": "15fb5f8f-e6fd-4206-e947-258395ef7aff"
      },
      "source": [
        "# Code block 1: Import libraries\n",
        "import numpy as np\n",
        "import pandas as pd\n",
        "import statsmodels.api as sm\n",
        "import seaborn as sb\n",
        "import matplotlib.pyplot as plt\n",
        "import scipy.stats as scp"
      ],
      "execution_count": null,
      "outputs": [
        {
          "output_type": "stream",
          "name": "stderr",
          "text": [
            "/usr/local/lib/python3.7/dist-packages/statsmodels/tools/_testing.py:19: FutureWarning: pandas.util.testing is deprecated. Use the functions in the public API at pandas.testing instead.\n",
            "  import pandas.util.testing as tm\n"
          ]
        }
      ]
    },
    {
      "cell_type": "markdown",
      "metadata": {
        "id": "RLYReV7MeJ9y"
      },
      "source": [
        "Next, we'll read in data and create a DataFrame object. We'll use variables from this data object in our analysis and visualization.\n",
        "\n",
        "The external file is an Excel spreadsheet. In our last lesson, we saw the code for reading in an Excel file.\n",
        "\n",
        "The data are global social indicators -- that is, measures of the characteristics of society that allow us to compare nations. The cases in this file are countries. Our explanations, then, should focus on the relationship between characteristics of countries, not of individuals."
      ]
    },
    {
      "cell_type": "code",
      "metadata": {
        "id": "kag8sifbbMmM",
        "colab": {
          "base_uri": "https://localhost:8080/",
          "height": 237
        },
        "outputId": "9acbd1a4-5c22-4a42-a0c3-1cdeb780dfac"
      },
      "source": [
        "# Code block 2: Read in data\n",
        "GlobalSocialIndicators = pd.read_excel('http://data.shortell.nyc/files/HumanDevelopment.xlsx', index_col='Country', na_values=[np.nan])\n",
        "GlobalSocialIndicators.head() # This allows us to inspect the top of the data file"
      ],
      "execution_count": null,
      "outputs": [
        {
          "output_type": "execute_result",
          "data": {
            "text/html": [
              "<div>\n",
              "<style scoped>\n",
              "    .dataframe tbody tr th:only-of-type {\n",
              "        vertical-align: middle;\n",
              "    }\n",
              "\n",
              "    .dataframe tbody tr th {\n",
              "        vertical-align: top;\n",
              "    }\n",
              "\n",
              "    .dataframe thead th {\n",
              "        text-align: right;\n",
              "    }\n",
              "</style>\n",
              "<table border=\"1\" class=\"dataframe\">\n",
              "  <thead>\n",
              "    <tr style=\"text-align: right;\">\n",
              "      <th></th>\n",
              "      <th>HDI Rank</th>\n",
              "      <th>Human Development Index (HDI)</th>\n",
              "      <th>Life Expectancy at Birth</th>\n",
              "      <th>Expected Years of Education</th>\n",
              "      <th>Mean Years of Education</th>\n",
              "      <th>Gross National Income (GNI) per Capita</th>\n",
              "      <th>GNI per Capita Rank Minus HDI Rank</th>\n",
              "    </tr>\n",
              "    <tr>\n",
              "      <th>Country</th>\n",
              "      <th></th>\n",
              "      <th></th>\n",
              "      <th></th>\n",
              "      <th></th>\n",
              "      <th></th>\n",
              "      <th></th>\n",
              "      <th></th>\n",
              "    </tr>\n",
              "  </thead>\n",
              "  <tbody>\n",
              "    <tr>\n",
              "      <th>Norway</th>\n",
              "      <td>1</td>\n",
              "      <td>0.944</td>\n",
              "      <td>81.6</td>\n",
              "      <td>17.5</td>\n",
              "      <td>12.6</td>\n",
              "      <td>64992</td>\n",
              "      <td>5</td>\n",
              "    </tr>\n",
              "    <tr>\n",
              "      <th>Australia</th>\n",
              "      <td>2</td>\n",
              "      <td>0.935</td>\n",
              "      <td>82.4</td>\n",
              "      <td>20.2</td>\n",
              "      <td>13.0</td>\n",
              "      <td>42261</td>\n",
              "      <td>17</td>\n",
              "    </tr>\n",
              "    <tr>\n",
              "      <th>Switzerland</th>\n",
              "      <td>3</td>\n",
              "      <td>0.930</td>\n",
              "      <td>83.0</td>\n",
              "      <td>15.8</td>\n",
              "      <td>12.8</td>\n",
              "      <td>56431</td>\n",
              "      <td>6</td>\n",
              "    </tr>\n",
              "    <tr>\n",
              "      <th>Denmark</th>\n",
              "      <td>4</td>\n",
              "      <td>0.923</td>\n",
              "      <td>80.2</td>\n",
              "      <td>18.7</td>\n",
              "      <td>12.7</td>\n",
              "      <td>44025</td>\n",
              "      <td>11</td>\n",
              "    </tr>\n",
              "    <tr>\n",
              "      <th>Netherlands</th>\n",
              "      <td>5</td>\n",
              "      <td>0.922</td>\n",
              "      <td>81.6</td>\n",
              "      <td>17.9</td>\n",
              "      <td>11.9</td>\n",
              "      <td>45435</td>\n",
              "      <td>9</td>\n",
              "    </tr>\n",
              "  </tbody>\n",
              "</table>\n",
              "</div>"
            ],
            "text/plain": [
              "             HDI Rank  ...  GNI per Capita Rank Minus HDI Rank\n",
              "Country                ...                                    \n",
              "Norway              1  ...                                   5\n",
              "Australia           2  ...                                  17\n",
              "Switzerland         3  ...                                   6\n",
              "Denmark             4  ...                                  11\n",
              "Netherlands         5  ...                                   9\n",
              "\n",
              "[5 rows x 7 columns]"
            ]
          },
          "metadata": {},
          "execution_count": 2
        }
      ]
    },
    {
      "cell_type": "code",
      "metadata": {
        "colab": {
          "base_uri": "https://localhost:8080/",
          "height": 297
        },
        "id": "2LC-s5rAQzx1",
        "outputId": "e296ab0b-1603-427c-f23e-9951ae626c4c"
      },
      "source": [
        "GlobalSocialIndicators[['Human Development Index (HDI)', 'Gross National Income (GNI) per Capita']].describe()"
      ],
      "execution_count": null,
      "outputs": [
        {
          "output_type": "execute_result",
          "data": {
            "text/html": [
              "<div>\n",
              "<style scoped>\n",
              "    .dataframe tbody tr th:only-of-type {\n",
              "        vertical-align: middle;\n",
              "    }\n",
              "\n",
              "    .dataframe tbody tr th {\n",
              "        vertical-align: top;\n",
              "    }\n",
              "\n",
              "    .dataframe thead th {\n",
              "        text-align: right;\n",
              "    }\n",
              "</style>\n",
              "<table border=\"1\" class=\"dataframe\">\n",
              "  <thead>\n",
              "    <tr style=\"text-align: right;\">\n",
              "      <th></th>\n",
              "      <th>Human Development Index (HDI)</th>\n",
              "      <th>Gross National Income (GNI) per Capita</th>\n",
              "    </tr>\n",
              "  </thead>\n",
              "  <tbody>\n",
              "    <tr>\n",
              "      <th>count</th>\n",
              "      <td>188.000000</td>\n",
              "      <td>188.000000</td>\n",
              "    </tr>\n",
              "    <tr>\n",
              "      <th>mean</th>\n",
              "      <td>0.692457</td>\n",
              "      <td>17014.808511</td>\n",
              "    </tr>\n",
              "    <tr>\n",
              "      <th>std</th>\n",
              "      <td>0.154701</td>\n",
              "      <td>18793.634361</td>\n",
              "    </tr>\n",
              "    <tr>\n",
              "      <th>min</th>\n",
              "      <td>0.348000</td>\n",
              "      <td>581.000000</td>\n",
              "    </tr>\n",
              "    <tr>\n",
              "      <th>25%</th>\n",
              "      <td>0.573750</td>\n",
              "      <td>3690.500000</td>\n",
              "    </tr>\n",
              "    <tr>\n",
              "      <th>50%</th>\n",
              "      <td>0.724000</td>\n",
              "      <td>10667.000000</td>\n",
              "    </tr>\n",
              "    <tr>\n",
              "      <th>75%</th>\n",
              "      <td>0.816500</td>\n",
              "      <td>22800.500000</td>\n",
              "    </tr>\n",
              "    <tr>\n",
              "      <th>max</th>\n",
              "      <td>0.944000</td>\n",
              "      <td>123124.000000</td>\n",
              "    </tr>\n",
              "  </tbody>\n",
              "</table>\n",
              "</div>"
            ],
            "text/plain": [
              "       Human Development Index (HDI)  Gross National Income (GNI) per Capita\n",
              "count                     188.000000                              188.000000\n",
              "mean                        0.692457                            17014.808511\n",
              "std                         0.154701                            18793.634361\n",
              "min                         0.348000                              581.000000\n",
              "25%                         0.573750                             3690.500000\n",
              "50%                         0.724000                            10667.000000\n",
              "75%                         0.816500                            22800.500000\n",
              "max                         0.944000                           123124.000000"
            ]
          },
          "metadata": {},
          "execution_count": 3
        }
      ]
    },
    {
      "cell_type": "code",
      "metadata": {
        "colab": {
          "base_uri": "https://localhost:8080/",
          "height": 297
        },
        "id": "Wj-Vw7Dj4y45",
        "outputId": "8d548456-2cd4-4c78-faad-7c623e25b4d8"
      },
      "source": [
        "GlobalSocialIndicators.describe()"
      ],
      "execution_count": null,
      "outputs": [
        {
          "output_type": "execute_result",
          "data": {
            "text/html": [
              "<div>\n",
              "<style scoped>\n",
              "    .dataframe tbody tr th:only-of-type {\n",
              "        vertical-align: middle;\n",
              "    }\n",
              "\n",
              "    .dataframe tbody tr th {\n",
              "        vertical-align: top;\n",
              "    }\n",
              "\n",
              "    .dataframe thead th {\n",
              "        text-align: right;\n",
              "    }\n",
              "</style>\n",
              "<table border=\"1\" class=\"dataframe\">\n",
              "  <thead>\n",
              "    <tr style=\"text-align: right;\">\n",
              "      <th></th>\n",
              "      <th>HDI Rank</th>\n",
              "      <th>Human Development Index (HDI)</th>\n",
              "      <th>Life Expectancy at Birth</th>\n",
              "      <th>Expected Years of Education</th>\n",
              "      <th>Mean Years of Education</th>\n",
              "      <th>Gross National Income (GNI) per Capita</th>\n",
              "      <th>GNI per Capita Rank Minus HDI Rank</th>\n",
              "    </tr>\n",
              "  </thead>\n",
              "  <tbody>\n",
              "    <tr>\n",
              "      <th>count</th>\n",
              "      <td>188.000000</td>\n",
              "      <td>188.000000</td>\n",
              "      <td>188.000000</td>\n",
              "      <td>188.00000</td>\n",
              "      <td>188.000000</td>\n",
              "      <td>188.000000</td>\n",
              "      <td>188.000000</td>\n",
              "    </tr>\n",
              "    <tr>\n",
              "      <th>mean</th>\n",
              "      <td>94.313830</td>\n",
              "      <td>0.692457</td>\n",
              "      <td>71.105319</td>\n",
              "      <td>12.88617</td>\n",
              "      <td>8.110106</td>\n",
              "      <td>17014.808511</td>\n",
              "      <td>0.186170</td>\n",
              "    </tr>\n",
              "    <tr>\n",
              "      <th>std</th>\n",
              "      <td>54.431652</td>\n",
              "      <td>0.154701</td>\n",
              "      <td>8.383277</td>\n",
              "      <td>2.86827</td>\n",
              "      <td>3.092782</td>\n",
              "      <td>18793.634361</td>\n",
              "      <td>17.326139</td>\n",
              "    </tr>\n",
              "    <tr>\n",
              "      <th>min</th>\n",
              "      <td>1.000000</td>\n",
              "      <td>0.348000</td>\n",
              "      <td>49.000000</td>\n",
              "      <td>4.10000</td>\n",
              "      <td>1.400000</td>\n",
              "      <td>581.000000</td>\n",
              "      <td>-84.000000</td>\n",
              "    </tr>\n",
              "    <tr>\n",
              "      <th>25%</th>\n",
              "      <td>47.750000</td>\n",
              "      <td>0.573750</td>\n",
              "      <td>65.475000</td>\n",
              "      <td>11.10000</td>\n",
              "      <td>5.575000</td>\n",
              "      <td>3690.500000</td>\n",
              "      <td>-9.000000</td>\n",
              "    </tr>\n",
              "    <tr>\n",
              "      <th>50%</th>\n",
              "      <td>94.000000</td>\n",
              "      <td>0.724000</td>\n",
              "      <td>73.200000</td>\n",
              "      <td>13.10000</td>\n",
              "      <td>8.500000</td>\n",
              "      <td>10667.000000</td>\n",
              "      <td>1.500000</td>\n",
              "    </tr>\n",
              "    <tr>\n",
              "      <th>75%</th>\n",
              "      <td>141.250000</td>\n",
              "      <td>0.816500</td>\n",
              "      <td>76.800000</td>\n",
              "      <td>15.02500</td>\n",
              "      <td>10.725000</td>\n",
              "      <td>22800.500000</td>\n",
              "      <td>11.000000</td>\n",
              "    </tr>\n",
              "    <tr>\n",
              "      <th>max</th>\n",
              "      <td>188.000000</td>\n",
              "      <td>0.944000</td>\n",
              "      <td>84.000000</td>\n",
              "      <td>20.20000</td>\n",
              "      <td>13.100000</td>\n",
              "      <td>123124.000000</td>\n",
              "      <td>47.000000</td>\n",
              "    </tr>\n",
              "  </tbody>\n",
              "</table>\n",
              "</div>"
            ],
            "text/plain": [
              "         HDI Rank  ...  GNI per Capita Rank Minus HDI Rank\n",
              "count  188.000000  ...                          188.000000\n",
              "mean    94.313830  ...                            0.186170\n",
              "std     54.431652  ...                           17.326139\n",
              "min      1.000000  ...                          -84.000000\n",
              "25%     47.750000  ...                           -9.000000\n",
              "50%     94.000000  ...                            1.500000\n",
              "75%    141.250000  ...                           11.000000\n",
              "max    188.000000  ...                           47.000000\n",
              "\n",
              "[8 rows x 7 columns]"
            ]
          },
          "metadata": {},
          "execution_count": 4
        }
      ]
    },
    {
      "cell_type": "markdown",
      "metadata": {
        "id": "fflaVs5hfhlp"
      },
      "source": [
        "In this example, I'm going to try to explain variation in life expectancy. Why do some countries have a higher life expectancy than others? The sociological explanation should focus on the characteristics of countries.\n",
        "\n",
        "One possible explanation has to do with standard of living. The higher the standard of living in a nation, the longer the life expectancy. A higher standard of living is associated with a variety of social factors that might be causally related to life expectancy, including health and well-being. Wealthier nations tend to have better systems of healthcare and other institutions that contribute to overall well-being, including education, culture industry, and leisure.\n",
        "\n",
        "So I am going to use 'Life Expectancy at Birth' as the variable I'm trying to explain. I'm going to use 'Gross National Income (GNI) per Capita' as the causal factor. My hypothesis is that countries with higher GNI per capita will have higher life expectancy."
      ]
    },
    {
      "cell_type": "code",
      "metadata": {
        "id": "H0TyTJgzbpAq",
        "colab": {
          "base_uri": "https://localhost:8080/"
        },
        "outputId": "2690224b-9530-4ef7-bb77-a7dd06ac1976"
      },
      "source": [
        "# Code block 3: The linear model\n",
        "Y = GlobalSocialIndicators['Life Expectancy at Birth']\n",
        "X = GlobalSocialIndicators['Gross National Income (GNI) per Capita']\n",
        "X = sm.add_constant(X)\n",
        "model0 = sm.OLS(Y, X, missing='drop').fit()\n",
        "print(model0.summary())"
      ],
      "execution_count": null,
      "outputs": [
        {
          "output_type": "stream",
          "name": "stdout",
          "text": [
            "                               OLS Regression Results                               \n",
            "====================================================================================\n",
            "Dep. Variable:     Life Expectancy at Birth   R-squared:                       0.391\n",
            "Model:                                  OLS   Adj. R-squared:                  0.387\n",
            "Method:                       Least Squares   F-statistic:                     119.3\n",
            "Date:                      Thu, 23 Sep 2021   Prob (F-statistic):           8.99e-22\n",
            "Time:                              13:45:20   Log-Likelihood:                -619.41\n",
            "No. Observations:                       188   AIC:                             1243.\n",
            "Df Residuals:                           186   BIC:                             1249.\n",
            "Df Model:                                 1                                         \n",
            "Covariance Type:                  nonrobust                                         \n",
            "==========================================================================================================\n",
            "                                             coef    std err          t      P>|t|      [0.025      0.975]\n",
            "----------------------------------------------------------------------------------------------------------\n",
            "const                                     66.3610      0.646    102.682      0.000      65.086      67.636\n",
            "Gross National Income (GNI) per Capita     0.0003   2.55e-05     10.922      0.000       0.000       0.000\n",
            "==============================================================================\n",
            "Omnibus:                       28.766   Durbin-Watson:                   1.164\n",
            "Prob(Omnibus):                  0.000   Jarque-Bera (JB):               36.667\n",
            "Skew:                          -1.037   Prob(JB):                     1.09e-08\n",
            "Kurtosis:                       3.615   Cond. No.                     3.42e+04\n",
            "==============================================================================\n",
            "\n",
            "Warnings:\n",
            "[1] Standard Errors assume that the covariance matrix of the errors is correctly specified.\n",
            "[2] The condition number is large, 3.42e+04. This might indicate that there are\n",
            "strong multicollinearity or other numerical problems.\n"
          ]
        }
      ]
    },
    {
      "cell_type": "markdown",
      "metadata": {
        "id": "tOKj6qokhuQp"
      },
      "source": [
        "The way that we interpret the results is as follows.\n",
        "\n",
        "First, we look to see if the linear model is reliable. That is, are the results in the table likely to indicate a real relationship between the variables or just random error? The test of statistical significance is an F-test, and by convention, if the probability of the test is less than 5%, 0.05, then we accept the table as reliable.\n",
        "\n",
        "In this case, the F-test (in the bottom part of the table) has a probability of 8.99e-22, which is less than 0.05. (This is scientific notation; the e-22 tells us that there are 22 zeros to the left of the number 8.99, or 0.000000000000000000000899. This number is smaller than 0.05) This table is reliable. We can go on to step 2.\n",
        "\n",
        "The next step is to interpret the goodness of fit of the model. That is, how much of the variation in life expectancy is explained by variation in GNI per capita? This is measured by a parameter called R-squared. The value is the proportion of explained variation. In this case it is 0.391. This means that 39% of the variation in life expectancy is explained by the model. This is pretty good fit for a bivariate linear model.\n",
        "\n",
        "The third step is to look at the parameter that describes the relationship between GNI per capita and life expectancy. First we check to see that this parameter is reliable. The t-test has a probability of 0.000, which is less than 0.05, so we can interpret the result. The coefficient is 0.0003. In OLS, the coefficient is expressed in the units of the variable we are trying to explain (Y), in this case, life expectancy in years. So for a one unit change in GNI per capita, would would expect a 0.0003 year increase in life expectancy. This seems like a very small effect.\n",
        "\n",
        "But a one unit increase in the causal variable (X) is a one dollar difference in GNI per capita. That is not a meaningful difference between nations. So we can get a more meaningful difference if we multiply the unit by 1,000.\n",
        "\n",
        "We would then multiply the coefficient by the same value. This gives us 0.3. So we can interpret the results as, \"for an increase in GNI per capita of $1,000 we would expect an increase in life expectancy by 0.3 years.\"\n",
        "\n",
        "You could also use 10,000 instead of 1,000. That would yield: \"for an increase in GNI per capita of 10,000 we would expect an increase in life expectancy of 3 years.\""
      ]
    },
    {
      "cell_type": "code",
      "metadata": {
        "id": "J5ZiiTz2cfdO",
        "colab": {
          "base_uri": "https://localhost:8080/",
          "height": 887
        },
        "outputId": "46f35afc-fbc1-462e-bd9b-4cf880437cc8"
      },
      "source": [
        "# Code block 4: Visualizing the linear model\n",
        "p = sb.lmplot('Gross National Income (GNI) per Capita', 'Life Expectancy at Birth', data=GlobalSocialIndicators)\n",
        "p.fig.set_figwidth(20)\n",
        "p.fig.set_figheight(12)\n",
        "plt.show()"
      ],
      "execution_count": null,
      "outputs": [
        {
          "output_type": "stream",
          "text": [
            "/usr/local/lib/python3.7/dist-packages/seaborn/_decorators.py:43: FutureWarning: Pass the following variables as keyword args: x, y. From version 0.12, the only valid positional argument will be `data`, and passing other arguments without an explicit keyword will result in an error or misinterpretation.\n",
            "  FutureWarning\n"
          ],
          "name": "stderr"
        },
        {
          "output_type": "display_data",
          "data": {
            "image/png": "[encoded data removed]",
            "text/plain": [
              "<Figure size 1440x864 with 1 Axes>"
            ]
          },
          "metadata": {
            "tags": [],
            "needs_background": "light"
          }
        }
      ]
    },
    {
      "cell_type": "markdown",
      "metadata": {
        "id": "YbwiNvtSlt2F"
      },
      "source": [
        "We're using a method in the Seaborn library to plot the linear model. (We'll talk more about the Seaborn library in our next lesson.) This gives us a sense of the relationship for the data as a whole. Wealthier nations (higher on the horizontal axis) have higher life expectancies (higher on the vertical axis) but there is a ceiling effect, it appears. This is probably due to biological factors since even when healthy, humans don't live much longer than 100 years, if that. So among the wealthiest nations, the effect on life expectancy is relatively small. Among poorer nations, the differences are much larger. You can see this because the slope of the scatterplot (not the linear regression line) is much steeper at the left side of the horizontal axis."
      ]
    },
    {
      "cell_type": "code",
      "metadata": {
        "colab": {
          "base_uri": "https://localhost:8080/"
        },
        "id": "yoewlgRdFknz",
        "outputId": "58892f1c-5fd5-4239-8b82-31f9c1e6321b"
      },
      "source": [
        "# Code block 5: The linear model\n",
        "Y = GlobalSocialIndicators['Life Expectancy at Birth']\n",
        "X = GlobalSocialIndicators[['Gross National Income (GNI) per Capita', 'Expected Years of Education']]\n",
        "X = sm.add_constant(X)\n",
        "model2 = sm.OLS(Y, X, missing='drop').fit()\n",
        "print(model2.summary())"
      ],
      "execution_count": null,
      "outputs": [
        {
          "output_type": "stream",
          "text": [
            "                               OLS Regression Results                               \n",
            "====================================================================================\n",
            "Dep. Variable:     Life Expectancy at Birth   R-squared:                       0.653\n",
            "Model:                                  OLS   Adj. R-squared:                  0.649\n",
            "Method:                       Least Squares   F-statistic:                     173.8\n",
            "Date:                      Wed, 03 Mar 2021   Prob (F-statistic):           3.34e-43\n",
            "Time:                              18:26:41   Log-Likelihood:                -566.60\n",
            "No. Observations:                       188   AIC:                             1139.\n",
            "Df Residuals:                           185   BIC:                             1149.\n",
            "Df Model:                                 2                                         \n",
            "Covariance Type:                  nonrobust                                         \n",
            "==========================================================================================================\n",
            "                                             coef    std err          t      P>|t|      [0.025      0.975]\n",
            "----------------------------------------------------------------------------------------------------------\n",
            "const                                     45.0227      1.872     24.052      0.000      41.330      48.716\n",
            "Gross National Income (GNI) per Capita     0.0001   2.44e-05      4.220      0.000    5.48e-05       0.000\n",
            "Expected Years of Education                1.8881      0.160     11.810      0.000       1.573       2.204\n",
            "==============================================================================\n",
            "Omnibus:                       24.266   Durbin-Watson:                   1.696\n",
            "Prob(Omnibus):                  0.000   Jarque-Bera (JB):               30.755\n",
            "Skew:                          -0.834   Prob(JB):                     2.10e-07\n",
            "Kurtosis:                       4.069   Cond. No.                     1.31e+05\n",
            "==============================================================================\n",
            "\n",
            "Warnings:\n",
            "[1] Standard Errors assume that the covariance matrix of the errors is correctly specified.\n",
            "[2] The condition number is large, 1.31e+05. This might indicate that there are\n",
            "strong multicollinearity or other numerical problems.\n"
          ],
          "name": "stdout"
        }
      ]
    },
    {
      "cell_type": "code",
      "metadata": {
        "colab": {
          "base_uri": "https://localhost:8080/"
        },
        "id": "uSp2kiH5xQ2Q",
        "outputId": "4aeebff3-666c-4034-8085-c7723cd0dae2"
      },
      "source": [
        "# Checking on colinearity\n",
        "corrtab, corrsig = scp.stats.pearsonr(GlobalSocialIndicators['Gross National Income (GNI) per Capita'], GlobalSocialIndicators['Mean Years of Education'])\n",
        "corrtab"
      ],
      "execution_count": null,
      "outputs": [
        {
          "output_type": "execute_result",
          "data": {
            "text/plain": [
              "0.5701033493623587"
            ]
          },
          "metadata": {
            "tags": []
          },
          "execution_count": 9
        }
      ]
    },
    {
      "cell_type": "code",
      "metadata": {
        "colab": {
          "base_uri": "https://localhost:8080/"
        },
        "id": "5Zb1ImhnGg-5",
        "outputId": "5afdb239-62d8-4cee-b032-88a34272f6e7"
      },
      "source": [
        "corrsig"
      ],
      "execution_count": null,
      "outputs": [
        {
          "output_type": "execute_result",
          "data": {
            "text/plain": [
              "1.3494512118194201e-17"
            ]
          },
          "metadata": {
            "tags": []
          },
          "execution_count": 11
        }
      ]
    },
    {
      "cell_type": "markdown",
      "metadata": {
        "id": "OVezz6LhcwgI"
      },
      "source": [
        "## Activity\n",
        "\n",
        "1. Read in the Global Social Indicators data and create a DataFrame.\n",
        "2. Identify a numeric variable that you want to explain. This is your dependent variable (DV), usually named Y. Describe the variable.\n",
        "3. Identify a numeric variable that you think might partially explain your DV. This is your independent variable (IV), usually named X. Describe this variable.\n",
        "4. Compute the linear model (using OLS), using the code in block 3 as a guide.\n",
        "5. Visualize the linear model, using code in block 4 as a model.\n",
        "6. Interpret the results.\n",
        "\n"
      ]
    },
    {
      "cell_type": "code",
      "metadata": {
        "id": "_uuMrM0keDOh"
      },
      "source": [],
      "execution_count": null,
      "outputs": []
    }
  ]
}